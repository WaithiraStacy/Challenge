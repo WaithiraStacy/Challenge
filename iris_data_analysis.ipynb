{
 "cells": [
  {
   "cell_type": "markdown",
   "id": "80917363",
   "metadata": {},
   "source": [
    "# Data Loading and Exploration\n",
    "\n",
    "This section loads and explores the dataset."
   ]
  },
  {
   "cell_type": "code",
   "execution_count": null,
   "id": "3df6454e",
   "metadata": {},
   "outputs": [],
   "source": [
    "\n",
    "import pandas as pd\n",
    "\n",
    "# Load the dataset (replace 'iris.csv' with your dataset file path)\n",
    "try:\n",
    "    df = pd.read_csv('iris.csv')  # Replace with your dataset file path\n",
    "    print(\"Dataset loaded successfully.\")\n",
    "except FileNotFoundError:\n",
    "    print(\"Error: The dataset file was not found. Please check the file path.\")\n",
    "\n",
    "# Display the first few rows of the dataset\n",
    "df.head()\n",
    "\n",
    "# Explore the dataset structure\n",
    "df.info()\n",
    "\n",
    "# Check for missing values\n",
    "df.isnull().sum()\n"
   ]
  },
  {
   "cell_type": "markdown",
   "id": "21e1451e",
   "metadata": {},
   "source": [
    "# Basic Data Analysis\n",
    "\n",
    "This section computes basic statistics and group-based analysis."
   ]
  },
  {
   "cell_type": "code",
   "execution_count": null,
   "id": "870cf2a2",
   "metadata": {},
   "outputs": [],
   "source": [
    "\n",
    "# Basic statistics for numerical columns\n",
    "df.describe()\n",
    "\n",
    "# Group by a categorical column (e.g., 'species') and compute the mean of a numerical column\n",
    "grouped_data = df.groupby('species').mean()\n",
    "grouped_data\n",
    "\n",
    "# Average Sepal Length per Species\n",
    "grouped_data['sepal_length']\n"
   ]
  },
  {
   "cell_type": "markdown",
   "id": "f0613b64",
   "metadata": {},
   "source": [
    "# Data Visualization\n",
    "\n",
    "This section visualizes the data with different charts."
   ]
  },
  {
   "cell_type": "code",
   "execution_count": null,
   "id": "2cab4354",
   "metadata": {},
   "outputs": [],
   "source": [
    "\n",
    "import matplotlib.pyplot as plt\n",
    "import seaborn as sns\n",
    "\n",
    "# Set the style for the plots\n",
    "sns.set(style=\"whitegrid\")\n",
    "\n",
    "# Bar chart comparing petal length across species\n",
    "sns.barplot(x='species', y='petal_length', data=df)\n",
    "plt.title('Average Petal Length per Species')\n",
    "plt.xlabel('Species')\n",
    "plt.ylabel('Average Petal Length')\n",
    "plt.show()\n",
    "\n",
    "# Histogram to understand the distribution of Sepal Length\n",
    "plt.hist(df['sepal_length'], bins=15, color='skyblue', edgecolor='black')\n",
    "plt.title('Distribution of Sepal Length')\n",
    "plt.xlabel('Sepal Length')\n",
    "plt.ylabel('Frequency')\n",
    "plt.show()\n",
    "\n",
    "# Scatter plot to visualize relationship between Sepal Length and Petal Length\n",
    "sns.scatterplot(x='sepal_length', y='petal_length', data=df, hue='species')\n",
    "plt.title('Sepal Length vs Petal Length')\n",
    "plt.xlabel('Sepal Length')\n",
    "plt.ylabel('Petal Length')\n",
    "plt.legend(title='Species')\n",
    "plt.show()\n"
   ]
  },
  {
   "cell_type": "markdown",
   "id": "2c9544eb",
   "metadata": {},
   "source": [
    "# Observations and Findings\n",
    "\n",
    "This section summarizes the analysis and visualizations."
   ]
  },
  {
   "cell_type": "code",
   "execution_count": null,
   "id": "53a125f4",
   "metadata": {},
   "outputs": [],
   "source": [
    "\n",
    "# Observations based on the data analysis\n",
    "print(\"1. The average petal length varies significantly across different species.\")\n",
    "print(\"2. Sepal length and petal length are positively correlated for different species.\")\n",
    "# Add any other findings you may have based on your analysis and visualizations.\n"
   ]
  },
  {
   "cell_type": "markdown",
   "id": "02ca17f2",
   "metadata": {},
   "source": [
    "# Error Handling for Data Loading\n",
    "\n",
    "This section handles errors during data loading."
   ]
  },
  {
   "cell_type": "code",
   "execution_count": null,
   "id": "d27f955b",
   "metadata": {},
   "outputs": [],
   "source": [
    "\n",
    "try:\n",
    "    df = pd.read_csv('iris.csv')  # Replace with your dataset file path\n",
    "    print(\"Dataset loaded successfully.\")\n",
    "except FileNotFoundError:\n",
    "    print(\"Error: The dataset file was not found. Please check the file path.\")\n",
    "except Exception as e:\n",
    "    print(f\"An error occurred: {e}\")\n"
   ]
  },
  {
   "cell_type": "markdown",
   "id": "51993071",
   "metadata": {},
   "source": [
    "# Conclusion\n",
    "\n",
    "This section summarizes the findings."
   ]
  },
  {
   "cell_type": "code",
   "execution_count": null,
   "id": "062f7a98",
   "metadata": {},
   "outputs": [],
   "source": [
    "\n",
    "# Summarize the findings\n",
    "print(\"Conclusion:\")\n",
    "print(\"Based on the analysis and visualizations, we observe significant differences in petal lengths across species.\")\n",
    "print(\"The relationship between sepal length and petal length shows a positive correlation, indicating that as sepal length increases, so does petal length.\")\n"
   ]
  }
 ],
 "metadata": {},
 "nbformat": 4,
 "nbformat_minor": 5
}
